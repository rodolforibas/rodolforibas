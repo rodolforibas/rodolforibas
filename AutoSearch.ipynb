{
  "nbformat": 4,
  "nbformat_minor": 0,
  "metadata": {
    "colab": {
      "name": "AutoSearch.ipynb",
      "provenance": [],
      "authorship_tag": "ABX9TyOKwu5ufNrqEPItwF5LoS/U",
      "include_colab_link": true
    },
    "kernelspec": {
      "name": "python3",
      "display_name": "Python 3"
    },
    "language_info": {
      "name": "python"
    }
  },
  "cells": [
    {
      "cell_type": "markdown",
      "metadata": {
        "id": "view-in-github",
        "colab_type": "text"
      },
      "source": [
        "<a href=\"https://colab.research.google.com/github/rodolforibas/rodolforibas/blob/main/AutoSearch.ipynb\" target=\"_parent\"><img src=\"https://colab.research.google.com/assets/colab-badge.svg\" alt=\"Open In Colab\"/></a>"
      ]
    },
    {
      "cell_type": "code",
      "execution_count": null,
      "metadata": {
        "id": "2_Df2oyWJiJ5"
      },
      "outputs": [],
      "source": [
        "from selenium import webdriver\n",
        "from selenium.webdriver.common.keys import Keys\n",
        "import numpy as np\n",
        "import pandas as pd\n",
        "\n",
        "termo_de_pesquisa = \"sideroforos\"\n",
        "resultados = []\n",
        "\n",
        "driver = webdriver.Chrome()\n",
        "\n",
        "\n",
        "driver.get(\"https://www.ncbi.nlm.nih.gov/pmc/\")\n",
        "driver.find_element_by_name(\"term\").send_keys(termo_de_pesquisa)\n",
        "driver.find_element_by_name(\"term\").send_keys(Keys.RETURN)\n",
        "\n",
        "result_pagina = //*[@id=\"maincontent\"]/div/div[3]/div[1]/h3\n",
        "for i in result_pagina:\n",
        "  if [result_pagina[-1]]\n",
        "  resultados.append[result_pagina[-1]]\n",
        "  print resultados\n",
        "\n",
        "\n",
        "<h3 class=\"result_count left\">Items: 1 to 20 of 22358</h3>\n",
        "\n",
        "\n",
        "#codigo pra capturar o numero de resultados e retornar pra alguma planilha\n",
        "\n",
        "\n",
        "driver.get(\"https://pubmed.ncbi.nlm.nih.gov/\")\n",
        "driver.find_element_by_name(\"term\").send_keys(termo_de_pesquisa)\n",
        "driver.find_element_by_name(\"term\").send_keys(Keys.RETURN)\n",
        "\n",
        "driver.get(\"https://www-periodicos-capes-gov-br.ezl.periodicos.capes.gov.br/index.php?\")\n",
        "driver.find_element_by_name(\"query\").send_keys(termo_de_pesquisa)\n",
        "driver.find_element_by_name(\"query\").send_keys(Keys.RETURN)\n",
        "\n",
        "driver.get(\"https://www.scielo.br/\")\n",
        "driver.find_element_by_name(\"q[]\").send_keys(termo_de_pesquisa)\n",
        "driver.find_element_by_name(\"q[]\").send_keys(Keys.RETURN)\n",
        "\n",
        "driver.get(\"https://www.sciencedirect.com/\")\n",
        "driver.find_element_by_name(\"qs\").send_keys(termo_de_pesquisa)\n",
        "driver.find_element_by_name(\"qs\").send_keys(Keys.RETURN)\n",
        "\n",
        "driver.get(\"https://www.scopus.com/search/form.uri?display=basic&zone=header&origin=#basic\")\n",
        "driver.find_element_by_name(\"qs\").send_keys(termo_de_pesquisa)\n",
        "driver.find_element_by_name(\"qs\").send_keys(Keys.RETURN)\n",
        "    \n",
        "driver.get(\"https://clarivate.com/\")\n",
        "driver.find_element_by_name(\"search\").send_keys(termo_de_pesquisa)\n",
        "driver.find_element_by_name(\"search\").send_keys(Keys.RETURN)\n"
      ]
    },
    {
      "cell_type": "code",
      "source": [
        "from selenium import webdriver\n",
        "from selenium.webdriver.common.keys import Keys\n",
        "\n",
        "termo_de_pesquisa = \"lipase\"\n",
        "\n",
        "driver = webdriver.Chrome()\n",
        "\n",
        "\n",
        "driver.get(\"https://www.ncbi.nlm.nih.gov/pmc/\")\n",
        "driver.find_element_by_name(\"term\").send_keys(termo_de_pesquisa)\n",
        "driver.find_element_by_name(\"term\").send_keys(Keys.RETURN)\n",
        "\n",
        "#agora começam as tentativas de puxar o número de resultados:\n",
        "\n",
        "result_pagina = driver.find_element_by_xpath('//*[@id=\"maincontent\"]/div/div[3]/div[1]/h3')\n",
        "\n",
        "for i in result_pagina:\n",
        "  if [result_pagina[-1]]==int:\n",
        "    resultados.append[result_pagina[-1]]\n",
        "    class=\"result_count left\"\n",
        "else:   \n",
        "  print(resultados)\n",
        "\n",
        "print(result_pagina)"
      ],
      "metadata": {
        "id": "OdzEFeP8Q2Sa"
      },
      "execution_count": null,
      "outputs": []
    }
  ]
}